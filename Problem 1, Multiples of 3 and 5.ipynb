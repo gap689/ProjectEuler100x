{
 "cells": [
  {
   "cell_type": "markdown",
   "metadata": {},
   "source": [
    "## Problem 1: Multiples of 3 and 5\n",
    "If we list all the natural numbers below 10 that are multiples of 3 or 5, we get 3, 5, 6 and 9. \n",
    "The sum of these multiples is 23.\n",
    "\n",
    "Find the sum of all the multiples of 3 or 5 below the provided parameter value number.\n",
    "\n",
    "* multiplesOf3and5(1000) should return 233168.\n",
    "* multiplesOf3and5(49) should return 543.\n",
    "* multiplesOf3and5(19564) should return 89301183.\n",
    "* multiplesOf3and5(8456) should return 16687353.\n",
    "</ol>"
   ]
  },
  {
   "cell_type": "code",
   "execution_count": 5,
   "metadata": {},
   "outputs": [],
   "source": [
    "def multiplesOf3and5(input):\n",
    "    \"\"\"takes natural numbers as inputs\"\"\"\n",
    "    sum=0\n",
    "    for i in range(input):\n",
    "        if i%3==0 or i%5==0:\n",
    "            sum += i\n",
    "    return sum"
   ]
  },
  {
   "cell_type": "code",
   "execution_count": 11,
   "metadata": {},
   "outputs": [
    {
     "name": "stdout",
     "output_type": "stream",
     "text": [
      "233168\n",
      "543\n",
      "89301183\n",
      "16687353\n"
     ]
    }
   ],
   "source": [
    "print(multiplesOf3and5(1000))\n",
    "print(multiplesOf3and5(49))\n",
    "print(multiplesOf3and5(19564))\n",
    "print(multiplesOf3and5(8456))"
   ]
  },
  {
   "cell_type": "code",
   "execution_count": null,
   "metadata": {},
   "outputs": [],
   "source": []
  }
 ],
 "metadata": {
  "kernelspec": {
   "display_name": "Python 3",
   "language": "python",
   "name": "python3"
  },
  "language_info": {
   "codemirror_mode": {
    "name": "ipython",
    "version": 3
   },
   "file_extension": ".py",
   "mimetype": "text/x-python",
   "name": "python",
   "nbconvert_exporter": "python",
   "pygments_lexer": "ipython3",
   "version": "3.6.8"
  }
 },
 "nbformat": 4,
 "nbformat_minor": 2
}
