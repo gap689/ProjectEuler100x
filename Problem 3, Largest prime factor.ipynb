{
 "cells": [
  {
   "cell_type": "markdown",
   "metadata": {},
   "source": [
    "# Project Euler: Problem 3: Largest prime factor\n",
    "\n",
    "The prime factors of 13195 are 5, 7, 13 and 29.\n",
    "\n",
    "What is the largest prime factor of the given number?"
   ]
  },
  {
   "cell_type": "markdown",
   "metadata": {},
   "source": [
    "* largestPrimeFactor(2) should return 2.\n",
    "* largestPrimeFactor(3) should return 3.\n",
    "* largestPrimeFactor(5) should return 5.\n",
    "* largestPrimeFactor(7) should return 7.\n",
    "* largestPrimeFactor(13195) should return 29.\n",
    "* largestPrimeFactor(600851475143) should return 6857."
   ]
  },
  {
   "cell_type": "code",
   "execution_count": 1,
   "metadata": {},
   "outputs": [],
   "source": [
    "def largestPrimeFactor(n):\n",
    "    \n",
    "    listprimes = []\n",
    "    \n",
    "    div = n #dividend\n",
    "    for i in range(2,div+1): #i: divisor\n",
    "        while div%i == 0: #while remainder is 0\n",
    "            div = div/i\n",
    "            listprimes.append(i)\n",
    "        if div == 1 :\n",
    "            break\n",
    "    print(f'Largest prime factor of {n}:', i)\n",
    "    #print('List of primes', listprimes)"
   ]
  },
  {
   "cell_type": "code",
   "execution_count": 2,
   "metadata": {},
   "outputs": [
    {
     "name": "stdout",
     "output_type": "stream",
     "text": [
      "Largest prime factor of 2: 2\n",
      "Largest prime factor of 3: 3\n",
      "Largest prime factor of 5: 5\n",
      "Largest prime factor of 7: 7\n",
      "Largest prime factor of 13195: 29\n",
      "Largest prime factor of 600851475143: 6857\n"
     ]
    }
   ],
   "source": [
    "largestPrimeFactor(2)\n",
    "largestPrimeFactor(3)\n",
    "largestPrimeFactor(5)\n",
    "largestPrimeFactor(7)\n",
    "largestPrimeFactor(13195)\n",
    "largestPrimeFactor(600851475143)"
   ]
  },
  {
   "cell_type": "code",
   "execution_count": null,
   "metadata": {},
   "outputs": [],
   "source": []
  }
 ],
 "metadata": {
  "kernelspec": {
   "display_name": "Python 3",
   "language": "python",
   "name": "python3"
  },
  "language_info": {
   "codemirror_mode": {
    "name": "ipython",
    "version": 3
   },
   "file_extension": ".py",
   "mimetype": "text/x-python",
   "name": "python",
   "nbconvert_exporter": "python",
   "pygments_lexer": "ipython3",
   "version": "3.6.8"
  }
 },
 "nbformat": 4,
 "nbformat_minor": 2
}
